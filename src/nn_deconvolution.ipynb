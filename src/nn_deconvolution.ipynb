{
  "cells": [
    {
      "cell_type": "markdown",
      "metadata": {
        "id": "yNhJlOCwOzxR"
      },
      "source": [
        "### **Imports and utils**"
      ]
    },
    {
      "cell_type": "markdown",
      "metadata": {
        "id": "oi3laPvZ8LaE"
      },
      "source": [
        "Importing libraies"
      ]
    },
    {
      "cell_type": "code",
      "execution_count": 1,
      "metadata": {
        "id": "jKVUBinurBRv"
      },
      "outputs": [],
      "source": [
        "import matplotlib.pyplot as plt\n",
        "from astropy.io import fits\n",
        "import numpy as np\n",
        "from keras.layers import Input, Conv2D, BatchNormalization, Activation, Add, Concatenate, UpSampling2D\n",
        "from keras.models import Model\n",
        "from keras.optimizers import Adam\n",
        "from keras.losses import binary_crossentropy\n",
        "from keras.metrics import Accuracy\n",
        "#from sklearn.model_selection import train_test_split"
      ]
    },
    {
      "cell_type": "markdown",
      "metadata": {
        "id": "iFNkwKQL8aah"
      },
      "source": [
        "Utils functions"
      ]
    },
    {
      "cell_type": "code",
      "execution_count": 50,
      "metadata": {
        "id": "I_rUru_Y8bpH"
      },
      "outputs": [],
      "source": [
        "def read_header_and_data(file_path, idx):\n",
        "    with fits.open(file_path) as hdu:\n",
        "        header = hdu[idx].header\n",
        "        data = hdu[idx].data\n",
        "\n",
        "        return header, data\n",
        "\n",
        "def show_image(image_data, cmap='gist_gray'):\n",
        "    plt.figure()\n",
        "    plt.imshow(image_data, cmap=cmap)\n",
        "    plt.colorbar()\n",
        "\n",
        "def mean_subtract(img_data):\n",
        "    img_mean = np.mean(img_data)\n",
        "    img_data -= img_mean\n",
        "\n",
        "    return img_data\n",
        "\n",
        "def normalize(array):\n",
        "    arr_max = np.max(array)\n",
        "    arr_min = np.min(array)\n",
        "\n",
        "    arr_normalized = (array - arr_min) / (arr_max - arr_min)\n",
        "\n",
        "    return arr_normalized\n",
        "\n",
        "def normalize_list(list_arrays):\n",
        "    list_arrays_normalized = []\n",
        "    list_arrays_normalized += [normalize(array) for array in list_arrays]\n",
        "    list_arrays_normalized = np.array(list_arrays_normalized)\n",
        "\n",
        "    return list_arrays_normalized"
      ]
    },
    {
      "cell_type": "markdown",
      "metadata": {
        "id": "Z-E9JMWnOuNA"
      },
      "source": [
        "### **Denoising**"
      ]
    },
    {
      "cell_type": "markdown",
      "metadata": {
        "id": "g1V5434SOqwk"
      },
      "source": [
        "Opening denoising data"
      ]
    },
    {
      "cell_type": "code",
      "execution_count": 51,
      "metadata": {
        "id": "fyzflVO6O8cq"
      },
      "outputs": [],
      "source": [
        "image_file_path = 'output_denoising_snr100.fits'\n",
        "img_head, img_data = read_header_and_data(image_file_path, 0)"
      ]
    },
    {
      "cell_type": "markdown",
      "metadata": {
        "id": "A83RijJAO8rN"
      },
      "source": [
        "ResUNet"
      ]
    },
    {
      "cell_type": "code",
      "execution_count": 54,
      "metadata": {
        "id": "rI8slnVM9MxB"
      },
      "outputs": [],
      "source": [
        "# from paper Qian, H. et al 2022\n",
        "\n",
        "def resnet_block(x, x_shortcut, num_filters, kernel_size=3):\n",
        "    # Main block\n",
        "    rb = Conv2D(num_filters, kernel_size, padding='same')(x)\n",
        "    rb = BatchNormalization()(rb)\n",
        "    rb = Activation('relu')(rb)\n",
        "    rb = Conv2D(num_filters, kernel_size, padding='same')(rb)\n",
        "\n",
        "    # Add\n",
        "    x_shortcut = Conv2D(num_filters, kernel_size=1, padding='same')(x_shortcut)\n",
        "    #x_shortcut = BatchNormalization()(x_shortcut)\n",
        "    rb = Add()([x_shortcut, rb])\n",
        "\n",
        "    return rb\n",
        "\n",
        "def upsample_concatenate(x, skip):\n",
        "    x = UpSampling2D((2, 2))(x)\n",
        "\n",
        "    return Concatenate()([x, skip])\n",
        "\n",
        "def resUnet(input_shape=(48, 48, 1), num_filters=64, num_resnetblocks=4, kernel_size=3): # change filters dynamically and check blocks\n",
        "    inputs = Input(input_shape)\n",
        "\n",
        "    # Encoder\n",
        "    x = inputs\n",
        "    skip_connections = []\n",
        "    for i in range(num_resnetblocks):\n",
        "        if not i == 0: x = BatchNormalization()(x)\n",
        "        x = resnet_block(x, x, num_filters, kernel_size)\n",
        "        if not i == num_resnetblocks-1:\n",
        "            skip_connections += [x] # copy maybe\n",
        "            x = Conv2D(num_filters, kernel_size, strides=2, padding='same')(x)\n",
        "\n",
        "    # Transition\n",
        "    x = BatchNormalization()(x)\n",
        "    x = Activation('relu')(x)\n",
        "    x = Conv2D(num_filters * 2, kernel_size, padding='same')(x)\n",
        "    x = BatchNormalization()(x)\n",
        "    x = Activation('relu')(x)\n",
        "    x = Conv2D(num_filters * 2, kernel_size, padding='same')(x)\n",
        "\n",
        "    # Decoder\n",
        "    for skip in reversed(skip_connections):\n",
        "        x = upsample_concatenate(x, skip)\n",
        "        x_shortcut = x\n",
        "        x = BatchNormalization()(x)\n",
        "        x = Activation('relu')(x)\n",
        "        x = resnet_block(x, x_shortcut, num_filters, kernel_size)\n",
        "\n",
        "    x = BatchNormalization()(x)\n",
        "    x = Conv2D(num_filters, kernel_size, padding='same')(x)\n",
        "\n",
        "    outputs = Conv2D(1, 1, activation='sigmoid')(x)\n",
        "    network = Model(inputs, outputs)\n",
        "\n",
        "    return network"
      ]
    },
    {
      "cell_type": "markdown",
      "metadata": {
        "id": "Jb2yzuXt9MxB"
      },
      "source": [
        "Training ResUnet"
      ]
    },
    {
      "cell_type": "code",
      "execution_count": 55,
      "metadata": {
        "id": "7qsNlLX99MxB",
        "outputId": "13eec407-c099-47d3-eec5-eb7024a0b695",
        "colab": {
          "base_uri": "https://localhost:8080/",
          "height": 853
        }
      },
      "outputs": [
        {
          "output_type": "display_data",
          "data": {
            "text/plain": [
              "<Figure size 640x480 with 2 Axes>"
            ],
            "image/png": "[encoded data removed]"
          },
          "metadata": {}
        },
        {
          "output_type": "display_data",
          "data": {
            "text/plain": [
              "<Figure size 640x480 with 2 Axes>"
            ],
            "image/png": "[encoded data removed]"
          },
          "metadata": {}
        }
      ],
      "source": [
        "#img_data = np.random.permutation(img_data)\n",
        "img_data = normalize_list(img_data)\n",
        "img_size = img_data[0].shape[0]\n",
        "num_total = len(img_data)\n",
        "train_split = 0.7\n",
        "train_idx = int(num_total * train_split)\n",
        "\n",
        "img_data = np.array([np.reshape(img, (img_size, img_size, 1)) for img in img_data])\n",
        "img_shape = img_data[0].shape\n",
        "\n",
        "# Spliting training and testing\n",
        "train = img_data[0:train_idx]\n",
        "\n",
        "train_x = img_data[[i for i in range(0, len(train), 2)]]\n",
        "train_y = img_data[[i for i in range(1, len(train), 2)]]\n",
        "\n",
        "test = img_data[train_idx:num_total]\n",
        "test_x = img_data[[i for i in range(0, len(test), 2)]]\n",
        "test_y = img_data[[i for i in range(1, len(test), 2)]]\n",
        "\n",
        "idx = 0\n",
        "show_image(test_x[idx])\n",
        "show_image(test_y[idx])"
      ]
    },
    {
      "cell_type": "code",
      "execution_count": 56,
      "metadata": {
        "id": "hzMv-7xO9MxD",
        "outputId": "4800e6cd-fe6e-4482-e53a-a358edd38d34",
        "colab": {
          "base_uri": "https://localhost:8080/"
        }
      },
      "outputs": [
        {
          "output_type": "stream",
          "name": "stdout",
          "text": [
            "Model: \"model_2\"\n",
            "__________________________________________________________________________________________________\n",
            " Layer (type)                Output Shape                 Param #   Connected to                  \n",
            "==================================================================================================\n",
            " input_3 (InputLayer)        [(None, 48, 48, 1)]          0         []                            \n",
            "                                                                                                  \n",
            " conv2d_56 (Conv2D)          (None, 48, 48, 64)           640       ['input_3[0][0]']             \n",
            "                                                                                                  \n",
            " batch_normalization_32 (Ba  (None, 48, 48, 64)           256       ['conv2d_56[0][0]']           \n",
            " tchNormalization)                                                                                \n",
            "                                                                                                  \n",
            " activation_24 (Activation)  (None, 48, 48, 64)           0         ['batch_normalization_32[0][0]\n",
            "                                                                    ']                            \n",
            "                                                                                                  \n",
            " conv2d_58 (Conv2D)          (None, 48, 48, 64)           128       ['input_3[0][0]']             \n",
            "                                                                                                  \n",
            " conv2d_57 (Conv2D)          (None, 48, 48, 64)           36928     ['activation_24[0][0]']       \n",
            "                                                                                                  \n",
            " add_14 (Add)                (None, 48, 48, 64)           0         ['conv2d_58[0][0]',           \n",
            "                                                                     'conv2d_57[0][0]']           \n",
            "                                                                                                  \n",
            " conv2d_59 (Conv2D)          (None, 24, 24, 64)           36928     ['add_14[0][0]']              \n",
            "                                                                                                  \n",
            " batch_normalization_33 (Ba  (None, 24, 24, 64)           256       ['conv2d_59[0][0]']           \n",
            " tchNormalization)                                                                                \n",
            "                                                                                                  \n",
            " conv2d_60 (Conv2D)          (None, 24, 24, 64)           36928     ['batch_normalization_33[0][0]\n",
            "                                                                    ']                            \n",
            "                                                                                                  \n",
            " batch_normalization_34 (Ba  (None, 24, 24, 64)           256       ['conv2d_60[0][0]']           \n",
            " tchNormalization)                                                                                \n",
            "                                                                                                  \n",
            " activation_25 (Activation)  (None, 24, 24, 64)           0         ['batch_normalization_34[0][0]\n",
            "                                                                    ']                            \n",
            "                                                                                                  \n",
            " conv2d_62 (Conv2D)          (None, 24, 24, 64)           4160      ['batch_normalization_33[0][0]\n",
            "                                                                    ']                            \n",
            "                                                                                                  \n",
            " conv2d_61 (Conv2D)          (None, 24, 24, 64)           36928     ['activation_25[0][0]']       \n",
            "                                                                                                  \n",
            " add_15 (Add)                (None, 24, 24, 64)           0         ['conv2d_62[0][0]',           \n",
            "                                                                     'conv2d_61[0][0]']           \n",
            "                                                                                                  \n",
            " conv2d_63 (Conv2D)          (None, 12, 12, 64)           36928     ['add_15[0][0]']              \n",
            "                                                                                                  \n",
            " batch_normalization_35 (Ba  (None, 12, 12, 64)           256       ['conv2d_63[0][0]']           \n",
            " tchNormalization)                                                                                \n",
            "                                                                                                  \n",
            " conv2d_64 (Conv2D)          (None, 12, 12, 64)           36928     ['batch_normalization_35[0][0]\n",
            "                                                                    ']                            \n",
            "                                                                                                  \n",
            " batch_normalization_36 (Ba  (None, 12, 12, 64)           256       ['conv2d_64[0][0]']           \n",
            " tchNormalization)                                                                                \n",
            "                                                                                                  \n",
            " activation_26 (Activation)  (None, 12, 12, 64)           0         ['batch_normalization_36[0][0]\n",
            "                                                                    ']                            \n",
            "                                                                                                  \n",
            " conv2d_66 (Conv2D)          (None, 12, 12, 64)           4160      ['batch_normalization_35[0][0]\n",
            "                                                                    ']                            \n",
            "                                                                                                  \n",
            " conv2d_65 (Conv2D)          (None, 12, 12, 64)           36928     ['activation_26[0][0]']       \n",
            "                                                                                                  \n",
            " add_16 (Add)                (None, 12, 12, 64)           0         ['conv2d_66[0][0]',           \n",
            "                                                                     'conv2d_65[0][0]']           \n",
            "                                                                                                  \n",
            " conv2d_67 (Conv2D)          (None, 6, 6, 64)             36928     ['add_16[0][0]']              \n",
            "                                                                                                  \n",
            " batch_normalization_37 (Ba  (None, 6, 6, 64)             256       ['conv2d_67[0][0]']           \n",
            " tchNormalization)                                                                                \n",
            "                                                                                                  \n",
            " conv2d_68 (Conv2D)          (None, 6, 6, 64)             36928     ['batch_normalization_37[0][0]\n",
            "                                                                    ']                            \n",
            "                                                                                                  \n",
            " batch_normalization_38 (Ba  (None, 6, 6, 64)             256       ['conv2d_68[0][0]']           \n",
            " tchNormalization)                                                                                \n",
            "                                                                                                  \n",
            " activation_27 (Activation)  (None, 6, 6, 64)             0         ['batch_normalization_38[0][0]\n",
            "                                                                    ']                            \n",
            "                                                                                                  \n",
            " conv2d_70 (Conv2D)          (None, 6, 6, 64)             4160      ['batch_normalization_37[0][0]\n",
            "                                                                    ']                            \n",
            "                                                                                                  \n",
            " conv2d_69 (Conv2D)          (None, 6, 6, 64)             36928     ['activation_27[0][0]']       \n",
            "                                                                                                  \n",
            " add_17 (Add)                (None, 6, 6, 64)             0         ['conv2d_70[0][0]',           \n",
            "                                                                     'conv2d_69[0][0]']           \n",
            "                                                                                                  \n",
            " batch_normalization_39 (Ba  (None, 6, 6, 64)             256       ['add_17[0][0]']              \n",
            " tchNormalization)                                                                                \n",
            "                                                                                                  \n",
            " activation_28 (Activation)  (None, 6, 6, 64)             0         ['batch_normalization_39[0][0]\n",
            "                                                                    ']                            \n",
            "                                                                                                  \n",
            " conv2d_71 (Conv2D)          (None, 6, 6, 128)            73856     ['activation_28[0][0]']       \n",
            "                                                                                                  \n",
            " batch_normalization_40 (Ba  (None, 6, 6, 128)            512       ['conv2d_71[0][0]']           \n",
            " tchNormalization)                                                                                \n",
            "                                                                                                  \n",
            " activation_29 (Activation)  (None, 6, 6, 128)            0         ['batch_normalization_40[0][0]\n",
            "                                                                    ']                            \n",
            "                                                                                                  \n",
            " conv2d_72 (Conv2D)          (None, 6, 6, 128)            147584    ['activation_29[0][0]']       \n",
            "                                                                                                  \n",
            " up_sampling2d_6 (UpSamplin  (None, 12, 12, 128)          0         ['conv2d_72[0][0]']           \n",
            " g2D)                                                                                             \n",
            "                                                                                                  \n",
            " concatenate_6 (Concatenate  (None, 12, 12, 192)          0         ['up_sampling2d_6[0][0]',     \n",
            " )                                                                   'add_16[0][0]']              \n",
            "                                                                                                  \n",
            " batch_normalization_41 (Ba  (None, 12, 12, 192)          768       ['concatenate_6[0][0]']       \n",
            " tchNormalization)                                                                                \n",
            "                                                                                                  \n",
            " activation_30 (Activation)  (None, 12, 12, 192)          0         ['batch_normalization_41[0][0]\n",
            "                                                                    ']                            \n",
            "                                                                                                  \n",
            " conv2d_73 (Conv2D)          (None, 12, 12, 64)           110656    ['activation_30[0][0]']       \n",
            "                                                                                                  \n",
            " batch_normalization_42 (Ba  (None, 12, 12, 64)           256       ['conv2d_73[0][0]']           \n",
            " tchNormalization)                                                                                \n",
            "                                                                                                  \n",
            " activation_31 (Activation)  (None, 12, 12, 64)           0         ['batch_normalization_42[0][0]\n",
            "                                                                    ']                            \n",
            "                                                                                                  \n",
            " conv2d_75 (Conv2D)          (None, 12, 12, 64)           12352     ['concatenate_6[0][0]']       \n",
            "                                                                                                  \n",
            " conv2d_74 (Conv2D)          (None, 12, 12, 64)           36928     ['activation_31[0][0]']       \n",
            "                                                                                                  \n",
            " add_18 (Add)                (None, 12, 12, 64)           0         ['conv2d_75[0][0]',           \n",
            "                                                                     'conv2d_74[0][0]']           \n",
            "                                                                                                  \n",
            " up_sampling2d_7 (UpSamplin  (None, 24, 24, 64)           0         ['add_18[0][0]']              \n",
            " g2D)                                                                                             \n",
            "                                                                                                  \n",
            " concatenate_7 (Concatenate  (None, 24, 24, 128)          0         ['up_sampling2d_7[0][0]',     \n",
            " )                                                                   'add_15[0][0]']              \n",
            "                                                                                                  \n",
            " batch_normalization_43 (Ba  (None, 24, 24, 128)          512       ['concatenate_7[0][0]']       \n",
            " tchNormalization)                                                                                \n",
            "                                                                                                  \n",
            " activation_32 (Activation)  (None, 24, 24, 128)          0         ['batch_normalization_43[0][0]\n",
            "                                                                    ']                            \n",
            "                                                                                                  \n",
            " conv2d_76 (Conv2D)          (None, 24, 24, 64)           73792     ['activation_32[0][0]']       \n",
            "                                                                                                  \n",
            " batch_normalization_44 (Ba  (None, 24, 24, 64)           256       ['conv2d_76[0][0]']           \n",
            " tchNormalization)                                                                                \n",
            "                                                                                                  \n",
            " activation_33 (Activation)  (None, 24, 24, 64)           0         ['batch_normalization_44[0][0]\n",
            "                                                                    ']                            \n",
            "                                                                                                  \n",
            " conv2d_78 (Conv2D)          (None, 24, 24, 64)           8256      ['concatenate_7[0][0]']       \n",
            "                                                                                                  \n",
            " conv2d_77 (Conv2D)          (None, 24, 24, 64)           36928     ['activation_33[0][0]']       \n",
            "                                                                                                  \n",
            " add_19 (Add)                (None, 24, 24, 64)           0         ['conv2d_78[0][0]',           \n",
            "                                                                     'conv2d_77[0][0]']           \n",
            "                                                                                                  \n",
            " up_sampling2d_8 (UpSamplin  (None, 48, 48, 64)           0         ['add_19[0][0]']              \n",
            " g2D)                                                                                             \n",
            "                                                                                                  \n",
            " concatenate_8 (Concatenate  (None, 48, 48, 128)          0         ['up_sampling2d_8[0][0]',     \n",
            " )                                                                   'add_14[0][0]']              \n",
            "                                                                                                  \n",
            " batch_normalization_45 (Ba  (None, 48, 48, 128)          512       ['concatenate_8[0][0]']       \n",
            " tchNormalization)                                                                                \n",
            "                                                                                                  \n",
            " activation_34 (Activation)  (None, 48, 48, 128)          0         ['batch_normalization_45[0][0]\n",
            "                                                                    ']                            \n",
            "                                                                                                  \n",
            " conv2d_79 (Conv2D)          (None, 48, 48, 64)           73792     ['activation_34[0][0]']       \n",
            "                                                                                                  \n",
            " batch_normalization_46 (Ba  (None, 48, 48, 64)           256       ['conv2d_79[0][0]']           \n",
            " tchNormalization)                                                                                \n",
            "                                                                                                  \n",
            " activation_35 (Activation)  (None, 48, 48, 64)           0         ['batch_normalization_46[0][0]\n",
            "                                                                    ']                            \n",
            "                                                                                                  \n",
            " conv2d_81 (Conv2D)          (None, 48, 48, 64)           8256      ['concatenate_8[0][0]']       \n",
            "                                                                                                  \n",
            " conv2d_80 (Conv2D)          (None, 48, 48, 64)           36928     ['activation_35[0][0]']       \n",
            "                                                                                                  \n",
            " add_20 (Add)                (None, 48, 48, 64)           0         ['conv2d_81[0][0]',           \n",
            "                                                                     'conv2d_80[0][0]']           \n",
            "                                                                                                  \n",
            " batch_normalization_47 (Ba  (None, 48, 48, 64)           256       ['add_20[0][0]']              \n",
            " tchNormalization)                                                                                \n",
            "                                                                                                  \n",
            " conv2d_82 (Conv2D)          (None, 48, 48, 64)           36928     ['batch_normalization_47[0][0]\n",
            "                                                                    ']                            \n",
            "                                                                                                  \n",
            " conv2d_83 (Conv2D)          (None, 48, 48, 1)            65        ['conv2d_82[0][0]']           \n",
            "                                                                                                  \n",
            "==================================================================================================\n",
            "Total params: 1044225 (3.98 MB)\n",
            "Trainable params: 1041537 (3.97 MB)\n",
            "Non-trainable params: 2688 (10.50 KB)\n",
            "__________________________________________________________________________________________________\n"
          ]
        }
      ],
      "source": [
        "resunet_model = resUnet(input_shape=img_shape, num_filters=64, num_resnetblocks=4, kernel_size=3)\n",
        "resunet_model.summary()"
      ]
    },
    {
      "cell_type": "code",
      "source": [
        "resunet_model.compile(optimizer=Adam(), loss='mean_squared_error', metrics=['mse'])\n",
        "\n",
        "batch_size = 128\n",
        "epochs = 25\n",
        "history = resunet_model.fit(train_x, train_y, batch_size=batch_size, epochs=epochs, verbose=1, validation_data=(test_x, test_y))"
      ],
      "metadata": {
        "colab": {
          "base_uri": "https://localhost:8080/"
        },
        "id": "LtzvV7pSpcOO",
        "outputId": "4659fd56-b487-4e32-87ad-80ac0c5eb28b"
      },
      "execution_count": 57,
      "outputs": [
        {
          "output_type": "stream",
          "name": "stdout",
          "text": [
            "Epoch 1/25\n",
            "55/55 [==============================] - 31s 290ms/step - loss: 0.0474 - mse: 0.0474 - val_loss: 0.8907 - val_mse: 0.8907\n",
            "Epoch 2/25\n",
            "55/55 [==============================] - 10s 182ms/step - loss: 0.0088 - mse: 0.0088 - val_loss: 0.0292 - val_mse: 0.0292\n",
            "Epoch 3/25\n",
            "55/55 [==============================] - 10s 182ms/step - loss: 0.0058 - mse: 0.0058 - val_loss: 0.0062 - val_mse: 0.0062\n",
            "Epoch 4/25\n",
            "55/55 [==============================] - 10s 183ms/step - loss: 0.0063 - mse: 0.0063 - val_loss: 0.0059 - val_mse: 0.0059\n",
            "Epoch 5/25\n",
            "55/55 [==============================] - 10s 183ms/step - loss: 0.0050 - mse: 0.0050 - val_loss: 0.0064 - val_mse: 0.0064\n",
            "Epoch 6/25\n",
            "55/55 [==============================] - 10s 184ms/step - loss: 0.0044 - mse: 0.0044 - val_loss: 0.0060 - val_mse: 0.0060\n",
            "Epoch 7/25\n",
            "55/55 [==============================] - 10s 186ms/step - loss: 0.0040 - mse: 0.0040 - val_loss: 0.0047 - val_mse: 0.0047\n",
            "Epoch 8/25\n",
            "55/55 [==============================] - 10s 187ms/step - loss: 0.0032 - mse: 0.0032 - val_loss: 0.0047 - val_mse: 0.0047\n",
            "Epoch 9/25\n",
            "55/55 [==============================] - 10s 185ms/step - loss: 0.0023 - mse: 0.0023 - val_loss: 0.0033 - val_mse: 0.0033\n",
            "Epoch 10/25\n",
            "55/55 [==============================] - 10s 184ms/step - loss: 0.0017 - mse: 0.0017 - val_loss: 0.0022 - val_mse: 0.0022\n",
            "Epoch 11/25\n",
            "55/55 [==============================] - 12s 212ms/step - loss: 0.0016 - mse: 0.0016 - val_loss: 0.0020 - val_mse: 0.0020\n",
            "Epoch 12/25\n",
            "55/55 [==============================] - 10s 185ms/step - loss: 0.0012 - mse: 0.0012 - val_loss: 0.0013 - val_mse: 0.0013\n",
            "Epoch 13/25\n",
            "55/55 [==============================] - 10s 186ms/step - loss: 9.5025e-04 - mse: 9.5025e-04 - val_loss: 0.0011 - val_mse: 0.0011\n",
            "Epoch 14/25\n",
            "55/55 [==============================] - 10s 186ms/step - loss: 8.6121e-04 - mse: 8.6121e-04 - val_loss: 0.0010 - val_mse: 0.0010\n",
            "Epoch 15/25\n",
            "55/55 [==============================] - 10s 186ms/step - loss: 8.1646e-04 - mse: 8.1646e-04 - val_loss: 8.4724e-04 - val_mse: 8.4724e-04\n",
            "Epoch 16/25\n",
            "55/55 [==============================] - 10s 187ms/step - loss: 7.9433e-04 - mse: 7.9433e-04 - val_loss: 7.9017e-04 - val_mse: 7.9017e-04\n",
            "Epoch 17/25\n",
            "55/55 [==============================] - 10s 187ms/step - loss: 7.9611e-04 - mse: 7.9611e-04 - val_loss: 7.9015e-04 - val_mse: 7.9015e-04\n",
            "Epoch 18/25\n",
            "55/55 [==============================] - 10s 188ms/step - loss: 7.5318e-04 - mse: 7.5318e-04 - val_loss: 7.4105e-04 - val_mse: 7.4105e-04\n",
            "Epoch 19/25\n",
            "55/55 [==============================] - 10s 188ms/step - loss: 7.1973e-04 - mse: 7.1973e-04 - val_loss: 8.5831e-04 - val_mse: 8.5831e-04\n",
            "Epoch 20/25\n",
            "55/55 [==============================] - 10s 188ms/step - loss: 7.3464e-04 - mse: 7.3464e-04 - val_loss: 8.9086e-04 - val_mse: 8.9086e-04\n",
            "Epoch 21/25\n",
            "55/55 [==============================] - 10s 187ms/step - loss: 6.9627e-04 - mse: 6.9627e-04 - val_loss: 9.8046e-04 - val_mse: 9.8046e-04\n",
            "Epoch 22/25\n",
            "55/55 [==============================] - 10s 188ms/step - loss: 6.5847e-04 - mse: 6.5847e-04 - val_loss: 7.0891e-04 - val_mse: 7.0891e-04\n",
            "Epoch 23/25\n",
            "55/55 [==============================] - 10s 187ms/step - loss: 5.8060e-04 - mse: 5.8060e-04 - val_loss: 6.6898e-04 - val_mse: 6.6898e-04\n",
            "Epoch 24/25\n",
            "55/55 [==============================] - 10s 189ms/step - loss: 5.4424e-04 - mse: 5.4425e-04 - val_loss: 9.5923e-04 - val_mse: 9.5923e-04\n",
            "Epoch 25/25\n",
            "55/55 [==============================] - 10s 188ms/step - loss: 5.4730e-04 - mse: 5.4730e-04 - val_loss: 7.8238e-04 - val_mse: 7.8238e-04\n"
          ]
        }
      ]
    },
    {
      "cell_type": "code",
      "source": [
        "predictions = resunet_model.predict(test_x)\n",
        "idx = 0\n",
        "show_image(test_x[idx])\n",
        "show_image(predictions[idx])"
      ],
      "metadata": {
        "colab": {
          "base_uri": "https://localhost:8080/",
          "height": 866
        },
        "id": "jm9QmL-KgDtF",
        "outputId": "ff059952-811e-4688-daca-f5b8093204e1"
      },
      "execution_count": 61,
      "outputs": [
        {
          "output_type": "stream",
          "name": "stdout",
          "text": [
            "94/94 [==============================] - 2s 20ms/step\n"
          ]
        },
        {
          "output_type": "display_data",
          "data": {
            "text/plain": [
              "<Figure size 640x480 with 2 Axes>"
            ],
            "image/png": "[encoded data removed]"
          },
          "metadata": {}
        },
        {
          "output_type": "display_data",
          "data": {
            "text/plain": [
              "<Figure size 640x480 with 2 Axes>"
            ],
            "image/png": "[encoded data removed]"
          },
          "metadata": {}
        }
      ]
    },
    {
      "cell_type": "markdown",
      "source": [
        "**Deconvolution**"
      ],
      "metadata": {
        "id": "MZf-h-Mb6kma"
      }
    },
    {
      "cell_type": "markdown",
      "source": [
        "Unrolled ADMM Network"
      ],
      "metadata": {
        "id": "ix1wWjWi66SY"
      }
    },
    {
      "cell_type": "code",
      "source": [],
      "metadata": {
        "id": "jUR5RuTp65mW"
      },
      "execution_count": null,
      "outputs": []
    }
  ],
  "metadata": {
    "colab": {
      "provenance": [],
      "gpuType": "T4"
    },
    "kernelspec": {
      "display_name": "Python 3",
      "name": "python3"
    },
    "language_info": {
      "codemirror_mode": {
        "name": "ipython",
        "version": 3
      },
      "file_extension": ".py",
      "mimetype": "text/x-python",
      "name": "python",
      "nbconvert_exporter": "python",
      "pygments_lexer": "ipython3",
      "version": "3.10.12"
    },
    "accelerator": "GPU"
  },
  "nbformat": 4,
  "nbformat_minor": 0
}