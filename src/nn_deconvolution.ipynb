{
 "cells": [
  {
   "cell_type": "markdown",
   "metadata": {
    "id": "yNhJlOCwOzxR"
   },
   "source": [
    "### **Imports and utils**"
   ]
  },
  {
   "cell_type": "markdown",
   "metadata": {
    "id": "oi3laPvZ8LaE"
   },
   "source": [
    "Importing libraies"
   ]
  },
  {
   "cell_type": "code",
   "execution_count": 1,
   "metadata": {
    "id": "jKVUBinurBRv"
   },
   "outputs": [
    {
     "name": "stderr",
     "output_type": "stream",
     "text": [
      "2024-01-27 14:17:13.746005: I tensorflow/core/util/port.cc:113] oneDNN custom operations are on. You may see slightly different numerical results due to floating-point round-off errors from different computation orders. To turn them off, set the environment variable `TF_ENABLE_ONEDNN_OPTS=0`.\n",
      "2024-01-27 14:17:13.854095: I external/local_tsl/tsl/cuda/cudart_stub.cc:31] Could not find cuda drivers on your machine, GPU will not be used.\n",
      "2024-01-27 14:17:14.016220: E external/local_xla/xla/stream_executor/cuda/cuda_dnn.cc:9261] Unable to register cuDNN factory: Attempting to register factory for plugin cuDNN when one has already been registered\n",
      "2024-01-27 14:17:14.016381: E external/local_xla/xla/stream_executor/cuda/cuda_fft.cc:607] Unable to register cuFFT factory: Attempting to register factory for plugin cuFFT when one has already been registered\n",
      "2024-01-27 14:17:14.029914: E external/local_xla/xla/stream_executor/cuda/cuda_blas.cc:1515] Unable to register cuBLAS factory: Attempting to register factory for plugin cuBLAS when one has already been registered\n",
      "2024-01-27 14:17:14.065408: I external/local_tsl/tsl/cuda/cudart_stub.cc:31] Could not find cuda drivers on your machine, GPU will not be used.\n",
      "2024-01-27 14:17:14.067050: I tensorflow/core/platform/cpu_feature_guard.cc:182] This TensorFlow binary is optimized to use available CPU instructions in performance-critical operations.\n",
      "To enable the following instructions: AVX2 AVX512F AVX512_VNNI FMA, in other operations, rebuild TensorFlow with the appropriate compiler flags.\n",
      "2024-01-27 14:17:15.092060: W tensorflow/compiler/tf2tensorrt/utils/py_utils.cc:38] TF-TRT Warning: Could not find TensorRT\n"
     ]
    }
   ],
   "source": [
    "import matplotlib.pyplot as plt\n",
    "from astropy.io import fits\n",
    "import numpy as np\n",
    "from keras.layers import Input, Conv2D, BatchNormalization, Activation, Add, Concatenate, UpSampling2D\n",
    "from keras.models import Model\n",
    "from keras.optimizers import Adam\n",
    "from keras.losses import binary_crossentropy\n",
    "from keras.metrics import Accuracy\n",
    "#from sklearn.model_selection import train_test_split"
   ]
  },
  {
   "cell_type": "markdown",
   "metadata": {
    "id": "iFNkwKQL8aah"
   },
   "source": [
    "Utils functions"
   ]
  },
  {
   "cell_type": "code",
   "execution_count": 7,
   "metadata": {
    "id": "I_rUru_Y8bpH"
   },
   "outputs": [],
   "source": [
    "def read_header_and_data(file_path, idx):\n",
    "    with fits.open(file_path) as hdu:\n",
    "        header = hdu[idx].header\n",
    "        data = hdu[idx].data\n",
    "\n",
    "        return header, data\n",
    "\n",
    "def show_image(image_data, cmap='grey'):\n",
    "    plt.figure()\n",
    "    plt.imshow(image_data, cmap=cmap)\n",
    "    plt.colorbar()\n",
    "\n",
    "def mean_subtract(img_data):\n",
    "    img_mean = np.mean(img_data)\n",
    "    img_data -= img_mean\n",
    "\n",
    "    return img_data\n",
    "\n",
    "def normalize(array):\n",
    "    arr_max = np.max(array)\n",
    "    arr_min = np.min(array)\n",
    "\n",
    "    arr_normalized = (array - arr_min) / (arr_max - arr_min)\n",
    "\n",
    "    return arr_normalized\n",
    "\n",
    "def normalize_list(list_arrays):\n",
    "    list_arrays_normalized = []\n",
    "    list_arrays_normalized += [normalize(array) for array in list_arrays]\n",
    "    list_arrays_normalized = np.array(list_arrays_normalized)\n",
    "\n",
    "    return list_arrays_normalized"
   ]
  },
  {
   "cell_type": "markdown",
   "metadata": {
    "id": "Z-E9JMWnOuNA"
   },
   "source": [
    "### **Denoising**"
   ]
  },
  {
   "cell_type": "markdown",
   "metadata": {
    "id": "g1V5434SOqwk"
   },
   "source": [
    "Opening denoising data"
   ]
  },
  {
   "cell_type": "code",
   "execution_count": 8,
   "metadata": {
    "id": "fyzflVO6O8cq"
   },
   "outputs": [],
   "source": [
    "image_file_path = 'outputs/output_denoising_snr100_reduced.fits'\n",
    "img_head, img_data = read_header_and_data(image_file_path, 0)"
   ]
  },
  {
   "cell_type": "markdown",
   "metadata": {
    "id": "A83RijJAO8rN"
   },
   "source": [
    "ResUNet"
   ]
  },
  {
   "cell_type": "code",
   "execution_count": 9,
   "metadata": {},
   "outputs": [],
   "source": [
    "# from paper\n",
    "\n",
    "def resnet_block(x, x_shortcut, num_filters, kernel_size=3):\n",
    "    # Main block\n",
    "    rb = Conv2D(num_filters, kernel_size, padding='same')(x)\n",
    "    rb = BatchNormalization()(rb)\n",
    "    rb = Activation('relu')(rb)\n",
    "    rb = Conv2D(num_filters, kernel_size, padding='same')(rb)\n",
    "\n",
    "    # Add\n",
    "    x_shortcut = Conv2D(num_filters, kernel_size=1, padding='same')(x_shortcut)\n",
    "    #x_shortcut = BatchNormalization()(x_shortcut)\n",
    "    rb = Add()([x_shortcut, rb])\n",
    "\n",
    "    return rb\n",
    "\n",
    "def upsample_concatenate(x, skip):\n",
    "    x = UpSampling2D((2, 2))(x)\n",
    "    \n",
    "    return Concatenate()([x, skip])\n",
    "\n",
    "def resUnet(input_shape=(48, 48, 1), num_filters=64, num_resnetblocks=4, kernel_size=3): # change filters dynamically and check blocks\n",
    "    inputs = Input(input_shape)\n",
    "\n",
    "    # Encoder\n",
    "    x = inputs\n",
    "    skip_connections = []\n",
    "    for i in range(num_resnetblocks):\n",
    "        if not i == 0: x = BatchNormalization()(x)\n",
    "        x = resnet_block(x, x, num_filters, kernel_size)\n",
    "        if not i == num_resnetblocks-1: \n",
    "            skip_connections += [x] # copy maybe\n",
    "            x = Conv2D(num_filters, kernel_size, strides=2, padding='same')(x)\n",
    "    \n",
    "    # Transition\n",
    "    x = BatchNormalization()(x)\n",
    "    x = Activation('relu')(x)\n",
    "    x = Conv2D(num_filters * 2, kernel_size, padding='same')(x)\n",
    "    x = BatchNormalization()(x)\n",
    "    x = Activation('relu')(x)\n",
    "    x = Conv2D(num_filters * 2, kernel_size, padding='same')(x)\n",
    "\n",
    "    # Decoder\n",
    "    for skip in reversed(skip_connections):\n",
    "        x = upsample_concatenate(x, skip)\n",
    "        x_shortcut = x\n",
    "        x = BatchNormalization()(x)\n",
    "        x = Activation('relu')(x)\n",
    "        x = resnet_block(x, x_shortcut, num_filters, kernel_size)\n",
    "    \n",
    "    x = BatchNormalization()(x)\n",
    "    x = Conv2D(num_filters, kernel_size, padding='same')(x)\n",
    "    \n",
    "    outputs = Conv2D(1, 1, activation='sigmoid')(x)\n",
    "    network = Model(inputs, outputs)\n",
    "    \n",
    "    return network"
   ]
  },
  {
   "cell_type": "markdown",
   "metadata": {},
   "source": [
    "Training resUnet"
   ]
  },
  {
   "cell_type": "code",
   "execution_count": 16,
   "metadata": {},
   "outputs": [
    {
     "data": {
      "image/png": "[encoded data removed]",
      "text/plain": [
       "<Figure size 640x480 with 2 Axes>"
      ]
     },
     "metadata": {},
     "output_type": "display_data"
    },
    {
     "data": {
      "image/png": "[encoded data removed]",
      "text/plain": [
       "<Figure size 640x480 with 2 Axes>"
      ]
     },
     "metadata": {},
     "output_type": "display_data"
    }
   ],
   "source": [
    "#img_data = np.random.permutation(img_data)\n",
    "img_data = normalize_list(img_data)\n",
    "img_size = img_data[0].shape[0]\n",
    "num_total = len(img_data)\n",
    "train_split = 0.7\n",
    "train_idx = int(num_total * train_split)\n",
    "\n",
    "img_data = np.array([np.reshape(img, (img_size, img_size, 1)) for img in img_data])\n",
    "img_shape = img_data[0].shape\n",
    "\n",
    "# Spliting training and testing\n",
    "train = img_data[0:train_idx]\n",
    "\n",
    "train_x = img_data[[i for i in range(0, len(train), 2)]]\n",
    "train_y = img_data[[i for i in range(1, len(train), 2)]]\n",
    "\n",
    "test = img_data[train_idx:num_total]\n",
    "test_x = img_data[[i for i in range(0, len(test), 2)]]\n",
    "test_y = img_data[[i for i in range(1, len(test), 2)]]\n",
    "\n",
    "idx = 0\n",
    "show_image(test_x[idx])\n",
    "show_image(test_y[idx])"
   ]
  },
  {
   "cell_type": "code",
   "execution_count": 17,
   "metadata": {},
   "outputs": [
    {
     "name": "stdout",
     "output_type": "stream",
     "text": [
      "Model: \"model\"\n",
      "__________________________________________________________________________________________________\n",
      " Layer (type)                Output Shape                 Param #   Connected to                  \n",
      "==================================================================================================\n",
      " input_1 (InputLayer)        [(None, 48, 48, 1)]          0         []                            \n",
      "                                                                                                  \n",
      " conv2d (Conv2D)             (None, 48, 48, 64)           640       ['input_1[0][0]']             \n",
      "                                                                                                  \n",
      " batch_normalization (Batch  (None, 48, 48, 64)           256       ['conv2d[0][0]']              \n",
      " Normalization)                                                                                   \n",
      "                                                                                                  \n",
      " activation (Activation)     (None, 48, 48, 64)           0         ['batch_normalization[0][0]'] \n",
      "                                                                                                  \n",
      " conv2d_2 (Conv2D)           (None, 48, 48, 64)           128       ['input_1[0][0]']             \n",
      "                                                                                                  \n",
      " conv2d_1 (Conv2D)           (None, 48, 48, 64)           36928     ['activation[0][0]']          \n",
      "                                                                                                  \n",
      " add (Add)                   (None, 48, 48, 64)           0         ['conv2d_2[0][0]',            \n",
      "                                                                     'conv2d_1[0][0]']            \n",
      "                                                                                                  \n",
      " conv2d_3 (Conv2D)           (None, 24, 24, 64)           36928     ['add[0][0]']                 \n",
      "                                                                                                  \n",
      " batch_normalization_1 (Bat  (None, 24, 24, 64)           256       ['conv2d_3[0][0]']            \n",
      " chNormalization)                                                                                 \n",
      "                                                                                                  \n",
      " conv2d_4 (Conv2D)           (None, 24, 24, 64)           36928     ['batch_normalization_1[0][0]'\n",
      "                                                                    ]                             \n",
      "                                                                                                  \n",
      " batch_normalization_2 (Bat  (None, 24, 24, 64)           256       ['conv2d_4[0][0]']            \n",
      " chNormalization)                                                                                 \n",
      "                                                                                                  \n",
      " activation_1 (Activation)   (None, 24, 24, 64)           0         ['batch_normalization_2[0][0]'\n",
      "                                                                    ]                             \n",
      "                                                                                                  \n",
      " conv2d_6 (Conv2D)           (None, 24, 24, 64)           4160      ['batch_normalization_1[0][0]'\n",
      "                                                                    ]                             \n",
      "                                                                                                  \n",
      " conv2d_5 (Conv2D)           (None, 24, 24, 64)           36928     ['activation_1[0][0]']        \n",
      "                                                                                                  \n",
      " add_1 (Add)                 (None, 24, 24, 64)           0         ['conv2d_6[0][0]',            \n",
      "                                                                     'conv2d_5[0][0]']            \n",
      "                                                                                                  \n",
      " conv2d_7 (Conv2D)           (None, 12, 12, 64)           36928     ['add_1[0][0]']               \n",
      "                                                                                                  \n",
      " batch_normalization_3 (Bat  (None, 12, 12, 64)           256       ['conv2d_7[0][0]']            \n",
      " chNormalization)                                                                                 \n",
      "                                                                                                  \n",
      " conv2d_8 (Conv2D)           (None, 12, 12, 64)           36928     ['batch_normalization_3[0][0]'\n",
      "                                                                    ]                             \n",
      "                                                                                                  \n",
      " batch_normalization_4 (Bat  (None, 12, 12, 64)           256       ['conv2d_8[0][0]']            \n",
      " chNormalization)                                                                                 \n",
      "                                                                                                  \n",
      " activation_2 (Activation)   (None, 12, 12, 64)           0         ['batch_normalization_4[0][0]'\n",
      "                                                                    ]                             \n",
      "                                                                                                  \n",
      " conv2d_10 (Conv2D)          (None, 12, 12, 64)           4160      ['batch_normalization_3[0][0]'\n",
      "                                                                    ]                             \n",
      "                                                                                                  \n",
      " conv2d_9 (Conv2D)           (None, 12, 12, 64)           36928     ['activation_2[0][0]']        \n",
      "                                                                                                  \n",
      " add_2 (Add)                 (None, 12, 12, 64)           0         ['conv2d_10[0][0]',           \n",
      "                                                                     'conv2d_9[0][0]']            \n",
      "                                                                                                  \n",
      " conv2d_11 (Conv2D)          (None, 6, 6, 64)             36928     ['add_2[0][0]']               \n",
      "                                                                                                  \n",
      " batch_normalization_5 (Bat  (None, 6, 6, 64)             256       ['conv2d_11[0][0]']           \n",
      " chNormalization)                                                                                 \n",
      "                                                                                                  \n",
      " conv2d_12 (Conv2D)          (None, 6, 6, 64)             36928     ['batch_normalization_5[0][0]'\n",
      "                                                                    ]                             \n",
      "                                                                                                  \n",
      " batch_normalization_6 (Bat  (None, 6, 6, 64)             256       ['conv2d_12[0][0]']           \n",
      " chNormalization)                                                                                 \n",
      "                                                                                                  \n",
      " activation_3 (Activation)   (None, 6, 6, 64)             0         ['batch_normalization_6[0][0]'\n",
      "                                                                    ]                             \n",
      "                                                                                                  \n",
      " conv2d_14 (Conv2D)          (None, 6, 6, 64)             4160      ['batch_normalization_5[0][0]'\n",
      "                                                                    ]                             \n",
      "                                                                                                  \n",
      " conv2d_13 (Conv2D)          (None, 6, 6, 64)             36928     ['activation_3[0][0]']        \n",
      "                                                                                                  \n",
      " add_3 (Add)                 (None, 6, 6, 64)             0         ['conv2d_14[0][0]',           \n",
      "                                                                     'conv2d_13[0][0]']           \n",
      "                                                                                                  \n",
      " batch_normalization_7 (Bat  (None, 6, 6, 64)             256       ['add_3[0][0]']               \n",
      " chNormalization)                                                                                 \n",
      "                                                                                                  \n",
      " activation_4 (Activation)   (None, 6, 6, 64)             0         ['batch_normalization_7[0][0]'\n",
      "                                                                    ]                             \n",
      "                                                                                                  \n",
      " conv2d_15 (Conv2D)          (None, 6, 6, 128)            73856     ['activation_4[0][0]']        \n",
      "                                                                                                  \n",
      " batch_normalization_8 (Bat  (None, 6, 6, 128)            512       ['conv2d_15[0][0]']           \n",
      " chNormalization)                                                                                 \n",
      "                                                                                                  \n",
      " activation_5 (Activation)   (None, 6, 6, 128)            0         ['batch_normalization_8[0][0]'\n",
      "                                                                    ]                             \n",
      "                                                                                                  \n",
      " conv2d_16 (Conv2D)          (None, 6, 6, 128)            147584    ['activation_5[0][0]']        \n",
      "                                                                                                  \n",
      " up_sampling2d (UpSampling2  (None, 12, 12, 128)          0         ['conv2d_16[0][0]']           \n",
      " D)                                                                                               \n",
      "                                                                                                  \n",
      " concatenate (Concatenate)   (None, 12, 12, 192)          0         ['up_sampling2d[0][0]',       \n",
      "                                                                     'add_2[0][0]']               \n",
      "                                                                                                  \n",
      " batch_normalization_9 (Bat  (None, 12, 12, 192)          768       ['concatenate[0][0]']         \n",
      " chNormalization)                                                                                 \n",
      "                                                                                                  \n",
      " activation_6 (Activation)   (None, 12, 12, 192)          0         ['batch_normalization_9[0][0]'\n",
      "                                                                    ]                             \n",
      "                                                                                                  \n",
      " conv2d_17 (Conv2D)          (None, 12, 12, 64)           110656    ['activation_6[0][0]']        \n",
      "                                                                                                  \n",
      " batch_normalization_10 (Ba  (None, 12, 12, 64)           256       ['conv2d_17[0][0]']           \n",
      " tchNormalization)                                                                                \n",
      "                                                                                                  \n",
      " activation_7 (Activation)   (None, 12, 12, 64)           0         ['batch_normalization_10[0][0]\n",
      "                                                                    ']                            \n",
      "                                                                                                  \n",
      " conv2d_19 (Conv2D)          (None, 12, 12, 64)           12352     ['concatenate[0][0]']         \n",
      "                                                                                                  \n",
      " conv2d_18 (Conv2D)          (None, 12, 12, 64)           36928     ['activation_7[0][0]']        \n",
      "                                                                                                  \n",
      " add_4 (Add)                 (None, 12, 12, 64)           0         ['conv2d_19[0][0]',           \n",
      "                                                                     'conv2d_18[0][0]']           \n",
      "                                                                                                  \n",
      " up_sampling2d_1 (UpSamplin  (None, 24, 24, 64)           0         ['add_4[0][0]']               \n",
      " g2D)                                                                                             \n",
      "                                                                                                  \n",
      " concatenate_1 (Concatenate  (None, 24, 24, 128)          0         ['up_sampling2d_1[0][0]',     \n",
      " )                                                                   'add_1[0][0]']               \n",
      "                                                                                                  \n",
      " batch_normalization_11 (Ba  (None, 24, 24, 128)          512       ['concatenate_1[0][0]']       \n",
      " tchNormalization)                                                                                \n",
      "                                                                                                  \n",
      " activation_8 (Activation)   (None, 24, 24, 128)          0         ['batch_normalization_11[0][0]\n",
      "                                                                    ']                            \n",
      "                                                                                                  \n",
      " conv2d_20 (Conv2D)          (None, 24, 24, 64)           73792     ['activation_8[0][0]']        \n",
      "                                                                                                  \n",
      " batch_normalization_12 (Ba  (None, 24, 24, 64)           256       ['conv2d_20[0][0]']           \n",
      " tchNormalization)                                                                                \n",
      "                                                                                                  \n",
      " activation_9 (Activation)   (None, 24, 24, 64)           0         ['batch_normalization_12[0][0]\n",
      "                                                                    ']                            \n",
      "                                                                                                  \n",
      " conv2d_22 (Conv2D)          (None, 24, 24, 64)           8256      ['concatenate_1[0][0]']       \n",
      "                                                                                                  \n",
      " conv2d_21 (Conv2D)          (None, 24, 24, 64)           36928     ['activation_9[0][0]']        \n",
      "                                                                                                  \n",
      " add_5 (Add)                 (None, 24, 24, 64)           0         ['conv2d_22[0][0]',           \n",
      "                                                                     'conv2d_21[0][0]']           \n",
      "                                                                                                  \n",
      " up_sampling2d_2 (UpSamplin  (None, 48, 48, 64)           0         ['add_5[0][0]']               \n",
      " g2D)                                                                                             \n",
      "                                                                                                  \n",
      " concatenate_2 (Concatenate  (None, 48, 48, 128)          0         ['up_sampling2d_2[0][0]',     \n",
      " )                                                                   'add[0][0]']                 \n",
      "                                                                                                  \n",
      " batch_normalization_13 (Ba  (None, 48, 48, 128)          512       ['concatenate_2[0][0]']       \n",
      " tchNormalization)                                                                                \n",
      "                                                                                                  \n",
      " activation_10 (Activation)  (None, 48, 48, 128)          0         ['batch_normalization_13[0][0]\n",
      "                                                                    ']                            \n",
      "                                                                                                  \n",
      " conv2d_23 (Conv2D)          (None, 48, 48, 64)           73792     ['activation_10[0][0]']       \n",
      "                                                                                                  \n",
      " batch_normalization_14 (Ba  (None, 48, 48, 64)           256       ['conv2d_23[0][0]']           \n",
      " tchNormalization)                                                                                \n",
      "                                                                                                  \n",
      " activation_11 (Activation)  (None, 48, 48, 64)           0         ['batch_normalization_14[0][0]\n",
      "                                                                    ']                            \n",
      "                                                                                                  \n",
      " conv2d_25 (Conv2D)          (None, 48, 48, 64)           8256      ['concatenate_2[0][0]']       \n",
      "                                                                                                  \n",
      " conv2d_24 (Conv2D)          (None, 48, 48, 64)           36928     ['activation_11[0][0]']       \n",
      "                                                                                                  \n",
      " add_6 (Add)                 (None, 48, 48, 64)           0         ['conv2d_25[0][0]',           \n",
      "                                                                     'conv2d_24[0][0]']           \n",
      "                                                                                                  \n",
      " batch_normalization_15 (Ba  (None, 48, 48, 64)           256       ['add_6[0][0]']               \n",
      " tchNormalization)                                                                                \n",
      "                                                                                                  \n",
      " conv2d_26 (Conv2D)          (None, 48, 48, 64)           36928     ['batch_normalization_15[0][0]\n",
      "                                                                    ']                            \n",
      "                                                                                                  \n",
      " conv2d_27 (Conv2D)          (None, 48, 48, 1)            65        ['conv2d_26[0][0]']           \n",
      "                                                                                                  \n",
      "==================================================================================================\n",
      "Total params: 1044225 (3.98 MB)\n",
      "Trainable params: 1041537 (3.97 MB)\n",
      "Non-trainable params: 2688 (10.50 KB)\n",
      "__________________________________________________________________________________________________\n"
     ]
    }
   ],
   "source": [
    "model = resUnet(input_shape=img_shape, num_filters=64, num_resnetblocks=4, kernel_size=3)\n",
    "model.summary()\n",
    "model.compile(optimizer=Adam(), loss=binary_crossentropy, metrics=[Accuracy()])\n",
    "\n",
    "# Train the model\n",
    "# batch_size = 32\n",
    "# epochs = 10\n",
    "\n",
    "# model.fit(train_x, train_y, validation_data=(test_x, test_y), batch_size=batch_size, epochs=epochs)"
   ]
  }
 ],
 "metadata": {
  "colab": {
   "provenance": []
  },
  "kernelspec": {
   "display_name": "Python 3 (ipykernel)",
   "language": "python",
   "name": "python3"
  },
  "language_info": {
   "codemirror_mode": {
    "name": "ipython",
    "version": 3
   },
   "file_extension": ".py",
   "mimetype": "text/x-python",
   "name": "python",
   "nbconvert_exporter": "python",
   "pygments_lexer": "ipython3",
   "version": "3.10.12"
  }
 },
 "nbformat": 4,
 "nbformat_minor": 1
}
