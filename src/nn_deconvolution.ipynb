{
  "cells": [
    {
      "cell_type": "markdown",
      "metadata": {
        "id": "yNhJlOCwOzxR"
      },
      "source": [
        "### **Imports and utils**"
      ]
    },
    {
      "cell_type": "markdown",
      "metadata": {
        "id": "oi3laPvZ8LaE"
      },
      "source": [
        "Importing libraies"
      ]
    },
    {
      "cell_type": "code",
      "execution_count": 6,
      "metadata": {
        "id": "jKVUBinurBRv"
      },
      "outputs": [],
      "source": [
        "import matplotlib.pyplot as plt\n",
        "from astropy.io import fits\n",
        "import numpy as np\n",
        "from keras.layers import Input, Conv2D, BatchNormalization, Activation, Add, Concatenate, UpSampling2D\n",
        "from keras.models import Model\n",
        "from keras.optimizers import Adam\n",
        "from keras.losses import binary_crossentropy\n",
        "from keras.metrics import Accuracy\n",
        "#from sklearn.model_selection import train_test_split"
      ]
    },
    {
      "cell_type": "markdown",
      "metadata": {
        "id": "iFNkwKQL8aah"
      },
      "source": [
        "Utils functions"
      ]
    },
    {
      "cell_type": "code",
      "execution_count": 7,
      "metadata": {
        "id": "I_rUru_Y8bpH"
      },
      "outputs": [],
      "source": [
        "def read_header_and_data(file_path, idx):\n",
        "    with fits.open(file_path) as hdu:\n",
        "        header = hdu[idx].header\n",
        "        data = hdu[idx].data\n",
        "\n",
        "        return header, data\n",
        "\n",
        "def show_image(image_data, cmap='gist_gray'):\n",
        "    plt.figure()\n",
        "    plt.imshow(image_data, cmap=cmap)\n",
        "    plt.colorbar()\n",
        "\n",
        "def mean_subtract(img_data):\n",
        "    img_mean = np.mean(img_data)\n",
        "    img_data -= img_mean\n",
        "\n",
        "    return img_data\n",
        "\n",
        "def normalize(array):\n",
        "    arr_max = np.max(array)\n",
        "    arr_min = np.min(array)\n",
        "\n",
        "    arr_normalized = (array - arr_min) / (arr_max - arr_min)\n",
        "\n",
        "    return arr_normalized\n",
        "\n",
        "def normalize_list(list_arrays):\n",
        "    list_arrays_normalized = []\n",
        "    list_arrays_normalized += [normalize(array) for array in list_arrays]\n",
        "    list_arrays_normalized = np.array(list_arrays_normalized)\n",
        "\n",
        "    return list_arrays_normalized"
      ]
    },
    {
      "cell_type": "markdown",
      "metadata": {
        "id": "Z-E9JMWnOuNA"
      },
      "source": [
        "### **Denoising**"
      ]
    },
    {
      "cell_type": "markdown",
      "metadata": {
        "id": "g1V5434SOqwk"
      },
      "source": [
        "Opening denoising data"
      ]
    },
    {
      "cell_type": "code",
      "execution_count": 4,
      "metadata": {
        "id": "fyzflVO6O8cq"
      },
      "outputs": [],
      "source": [
        "image_file_path = 'outputs/output_denoising_snr100.fits'\n",
        "img_head, img_data = read_header_and_data(image_file_path, 0)"
      ]
    },
    {
      "cell_type": "markdown",
      "metadata": {
        "id": "A83RijJAO8rN"
      },
      "source": [
        "ResUNet"
      ]
    },
    {
      "cell_type": "code",
      "execution_count": 27,
      "metadata": {
        "id": "rI8slnVM9MxB"
      },
      "outputs": [],
      "source": [
        "# from paper Qian, H. et al 2022\n",
        "\n",
        "def resnet_block(x, x_shortcut, num_filters, kernel_size=3):\n",
        "    # Main block\n",
        "    rb = Conv2D(num_filters, kernel_size, padding='same')(x)\n",
        "    rb = BatchNormalization()(rb)\n",
        "    rb = Activation('relu')(rb)\n",
        "    rb = Conv2D(num_filters, kernel_size, padding='same')(rb)\n",
        "\n",
        "    # Add\n",
        "    x_shortcut = Conv2D(num_filters, kernel_size=1, padding='same')(x_shortcut)\n",
        "    #x_shortcut = BatchNormalization()(x_shortcut)\n",
        "    rb = Add()([x_shortcut, rb])\n",
        "\n",
        "    return rb\n",
        "\n",
        "def upsample_concatenate(x, skip):\n",
        "    x = UpSampling2D((2, 2))(x)\n",
        "\n",
        "    return Concatenate()([x, skip])\n",
        "\n",
        "def resUnet(input_shape=(48, 48, 1), num_filters=64, num_resnetblocks=4, kernel_size=3): # change filters dynamically and check blocks\n",
        "    inputs = Input(input_shape)\n",
        "\n",
        "    # Encoder\n",
        "    x = inputs\n",
        "    skip_connections = []\n",
        "    for i in range(num_resnetblocks):\n",
        "        if not i == 0: x = BatchNormalization()(x)\n",
        "        x = resnet_block(x, x, num_filters, kernel_size)\n",
        "        if not i == num_resnetblocks-1:\n",
        "            skip_connections += [x] # copy maybe\n",
        "            x = Conv2D(num_filters, kernel_size, strides=2, padding='same')(x)\n",
        "\n",
        "    # Transition\n",
        "    x = BatchNormalization()(x)\n",
        "    x = Activation('relu')(x)\n",
        "    x = Conv2D(num_filters * 2, kernel_size, padding='same')(x)\n",
        "    x = BatchNormalization()(x)\n",
        "    x = Activation('relu')(x)\n",
        "    x = Conv2D(num_filters * 2, kernel_size, padding='same')(x)\n",
        "\n",
        "    # Decoder\n",
        "    for skip in reversed(skip_connections):\n",
        "        x = upsample_concatenate(x, skip)\n",
        "        x_shortcut = x\n",
        "        x = BatchNormalization()(x)\n",
        "        x = Activation('relu')(x)\n",
        "        x = resnet_block(x, x_shortcut, num_filters, kernel_size)\n",
        "\n",
        "    x = BatchNormalization()(x)\n",
        "    x = Conv2D(num_filters, kernel_size, padding='same')(x)\n",
        "\n",
        "    outputs = Conv2D(1, 1, activation='sigmoid')(x)\n",
        "    network = Model(inputs, outputs)\n",
        "\n",
        "    return network"
      ]
    },
    {
      "cell_type": "markdown",
      "metadata": {
        "id": "Jb2yzuXt9MxB"
      },
      "source": [
        "Training ResUnet"
      ]
    },
    {
      "cell_type": "code",
      "execution_count": null,
      "metadata": {
        "colab": {
          "base_uri": "https://localhost:8080/",
          "height": 853
        },
        "id": "7qsNlLX99MxB",
        "outputId": "e7b62d8d-6ef8-4451-f663-075a149ed4d0"
      },
      "outputs": [],
      "source": [
        "#img_data = np.random.permutation(img_data)\n",
        "img_data = normalize_list(img_data)\n",
        "img_size = img_data[0].shape[0]\n",
        "num_total = len(img_data)\n",
        "train_split = 0.7\n",
        "train_idx = int(num_total * train_split)\n",
        "\n",
        "img_data = np.array([np.reshape(img, (img_size, img_size, 1)) for img in img_data])\n",
        "img_shape = img_data[0].shape\n",
        "\n",
        "# Spliting training and testing\n",
        "train = img_data[0:train_idx]\n",
        "train_x = train[[i for i in range(0, len(train), 2)]]\n",
        "train_y = train[[i for i in range(1, len(train), 2)]]\n",
        "\n",
        "test = img_data[train_idx:num_total]\n",
        "test_x = test[[i for i in range(0, len(test), 2)]]\n",
        "test_y = test[[i for i in range(1, len(test), 2)]]\n",
        "\n",
        "idx = 0\n",
        "show_image(test_x[idx])\n",
        "show_image(test_y[idx])"
      ]
    },
    {
      "cell_type": "code",
      "execution_count": 28,
      "metadata": {
        "colab": {
          "base_uri": "https://localhost:8080/"
        },
        "id": "hzMv-7xO9MxD",
        "outputId": "1eabf1f2-3528-4802-ff6c-6b7061bbfd70"
      },
      "outputs": [
        {
          "name": "stdout",
          "output_type": "stream",
          "text": [
            "Model: \"model\"\n",
            "__________________________________________________________________________________________________\n",
            " Layer (type)                Output Shape                 Param #   Connected to                  \n",
            "==================================================================================================\n",
            " input_1 (InputLayer)        [(None, 48, 48, 1)]          0         []                            \n",
            "                                                                                                  \n",
            " conv2d (Conv2D)             (None, 48, 48, 64)           640       ['input_1[0][0]']             \n",
            "                                                                                                  \n",
            " batch_normalization (Batch  (None, 48, 48, 64)           256       ['conv2d[0][0]']              \n",
            " Normalization)                                                                                   \n",
            "                                                                                                  \n",
            " activation (Activation)     (None, 48, 48, 64)           0         ['batch_normalization[0][0]'] \n",
            "                                                                                                  \n",
            " conv2d_2 (Conv2D)           (None, 48, 48, 64)           128       ['input_1[0][0]']             \n",
            "                                                                                                  \n",
            " conv2d_1 (Conv2D)           (None, 48, 48, 64)           36928     ['activation[0][0]']          \n",
            "                                                                                                  \n",
            " add (Add)                   (None, 48, 48, 64)           0         ['conv2d_2[0][0]',            \n",
            "                                                                     'conv2d_1[0][0]']            \n",
            "                                                                                                  \n",
            " conv2d_3 (Conv2D)           (None, 24, 24, 64)           36928     ['add[0][0]']                 \n",
            "                                                                                                  \n",
            " batch_normalization_1 (Bat  (None, 24, 24, 64)           256       ['conv2d_3[0][0]']            \n",
            " chNormalization)                                                                                 \n",
            "                                                                                                  \n",
            " conv2d_4 (Conv2D)           (None, 24, 24, 64)           36928     ['batch_normalization_1[0][0]'\n",
            "                                                                    ]                             \n",
            "                                                                                                  \n",
            " batch_normalization_2 (Bat  (None, 24, 24, 64)           256       ['conv2d_4[0][0]']            \n",
            " chNormalization)                                                                                 \n",
            "                                                                                                  \n",
            " activation_1 (Activation)   (None, 24, 24, 64)           0         ['batch_normalization_2[0][0]'\n",
            "                                                                    ]                             \n",
            "                                                                                                  \n",
            " conv2d_6 (Conv2D)           (None, 24, 24, 64)           4160      ['batch_normalization_1[0][0]'\n",
            "                                                                    ]                             \n",
            "                                                                                                  \n",
            " conv2d_5 (Conv2D)           (None, 24, 24, 64)           36928     ['activation_1[0][0]']        \n",
            "                                                                                                  \n",
            " add_1 (Add)                 (None, 24, 24, 64)           0         ['conv2d_6[0][0]',            \n",
            "                                                                     'conv2d_5[0][0]']            \n",
            "                                                                                                  \n",
            " conv2d_7 (Conv2D)           (None, 12, 12, 64)           36928     ['add_1[0][0]']               \n",
            "                                                                                                  \n",
            " batch_normalization_3 (Bat  (None, 12, 12, 64)           256       ['conv2d_7[0][0]']            \n",
            " chNormalization)                                                                                 \n",
            "                                                                                                  \n",
            " conv2d_8 (Conv2D)           (None, 12, 12, 64)           36928     ['batch_normalization_3[0][0]'\n",
            "                                                                    ]                             \n",
            "                                                                                                  \n",
            " batch_normalization_4 (Bat  (None, 12, 12, 64)           256       ['conv2d_8[0][0]']            \n",
            " chNormalization)                                                                                 \n",
            "                                                                                                  \n",
            " activation_2 (Activation)   (None, 12, 12, 64)           0         ['batch_normalization_4[0][0]'\n",
            "                                                                    ]                             \n",
            "                                                                                                  \n",
            " conv2d_10 (Conv2D)          (None, 12, 12, 64)           4160      ['batch_normalization_3[0][0]'\n",
            "                                                                    ]                             \n",
            "                                                                                                  \n",
            " conv2d_9 (Conv2D)           (None, 12, 12, 64)           36928     ['activation_2[0][0]']        \n",
            "                                                                                                  \n",
            " add_2 (Add)                 (None, 12, 12, 64)           0         ['conv2d_10[0][0]',           \n",
            "                                                                     'conv2d_9[0][0]']            \n",
            "                                                                                                  \n",
            " conv2d_11 (Conv2D)          (None, 6, 6, 64)             36928     ['add_2[0][0]']               \n",
            "                                                                                                  \n",
            " batch_normalization_5 (Bat  (None, 6, 6, 64)             256       ['conv2d_11[0][0]']           \n",
            " chNormalization)                                                                                 \n",
            "                                                                                                  \n",
            " conv2d_12 (Conv2D)          (None, 6, 6, 64)             36928     ['batch_normalization_5[0][0]'\n",
            "                                                                    ]                             \n",
            "                                                                                                  \n",
            " batch_normalization_6 (Bat  (None, 6, 6, 64)             256       ['conv2d_12[0][0]']           \n",
            " chNormalization)                                                                                 \n",
            "                                                                                                  \n",
            " activation_3 (Activation)   (None, 6, 6, 64)             0         ['batch_normalization_6[0][0]'\n",
            "                                                                    ]                             \n",
            "                                                                                                  \n",
            " conv2d_14 (Conv2D)          (None, 6, 6, 64)             4160      ['batch_normalization_5[0][0]'\n",
            "                                                                    ]                             \n",
            "                                                                                                  \n",
            " conv2d_13 (Conv2D)          (None, 6, 6, 64)             36928     ['activation_3[0][0]']        \n",
            "                                                                                                  \n",
            " add_3 (Add)                 (None, 6, 6, 64)             0         ['conv2d_14[0][0]',           \n",
            "                                                                     'conv2d_13[0][0]']           \n",
            "                                                                                                  \n",
            " batch_normalization_7 (Bat  (None, 6, 6, 64)             256       ['add_3[0][0]']               \n",
            " chNormalization)                                                                                 \n",
            "                                                                                                  \n",
            " activation_4 (Activation)   (None, 6, 6, 64)             0         ['batch_normalization_7[0][0]'\n",
            "                                                                    ]                             \n",
            "                                                                                                  \n",
            " conv2d_15 (Conv2D)          (None, 6, 6, 128)            73856     ['activation_4[0][0]']        \n",
            "                                                                                                  \n",
            " batch_normalization_8 (Bat  (None, 6, 6, 128)            512       ['conv2d_15[0][0]']           \n",
            " chNormalization)                                                                                 \n",
            "                                                                                                  \n",
            " activation_5 (Activation)   (None, 6, 6, 128)            0         ['batch_normalization_8[0][0]'\n",
            "                                                                    ]                             \n",
            "                                                                                                  \n",
            " conv2d_16 (Conv2D)          (None, 6, 6, 128)            147584    ['activation_5[0][0]']        \n",
            "                                                                                                  \n",
            " up_sampling2d (UpSampling2  (None, 12, 12, 128)          0         ['conv2d_16[0][0]']           \n",
            " D)                                                                                               \n",
            "                                                                                                  \n",
            " concatenate (Concatenate)   (None, 12, 12, 192)          0         ['up_sampling2d[0][0]',       \n",
            "                                                                     'add_2[0][0]']               \n",
            "                                                                                                  \n",
            " batch_normalization_9 (Bat  (None, 12, 12, 192)          768       ['concatenate[0][0]']         \n",
            " chNormalization)                                                                                 \n",
            "                                                                                                  \n",
            " activation_6 (Activation)   (None, 12, 12, 192)          0         ['batch_normalization_9[0][0]'\n",
            "                                                                    ]                             \n",
            "                                                                                                  \n",
            " conv2d_17 (Conv2D)          (None, 12, 12, 64)           110656    ['activation_6[0][0]']        \n",
            "                                                                                                  \n",
            " batch_normalization_10 (Ba  (None, 12, 12, 64)           256       ['conv2d_17[0][0]']           \n",
            " tchNormalization)                                                                                \n",
            "                                                                                                  \n",
            " activation_7 (Activation)   (None, 12, 12, 64)           0         ['batch_normalization_10[0][0]\n",
            "                                                                    ']                            \n",
            "                                                                                                  \n",
            " conv2d_19 (Conv2D)          (None, 12, 12, 64)           12352     ['concatenate[0][0]']         \n",
            "                                                                                                  \n",
            " conv2d_18 (Conv2D)          (None, 12, 12, 64)           36928     ['activation_7[0][0]']        \n",
            "                                                                                                  \n",
            " add_4 (Add)                 (None, 12, 12, 64)           0         ['conv2d_19[0][0]',           \n",
            "                                                                     'conv2d_18[0][0]']           \n",
            "                                                                                                  \n",
            " up_sampling2d_1 (UpSamplin  (None, 24, 24, 64)           0         ['add_4[0][0]']               \n",
            " g2D)                                                                                             \n",
            "                                                                                                  \n",
            " concatenate_1 (Concatenate  (None, 24, 24, 128)          0         ['up_sampling2d_1[0][0]',     \n",
            " )                                                                   'add_1[0][0]']               \n",
            "                                                                                                  \n",
            " batch_normalization_11 (Ba  (None, 24, 24, 128)          512       ['concatenate_1[0][0]']       \n",
            " tchNormalization)                                                                                \n",
            "                                                                                                  \n",
            " activation_8 (Activation)   (None, 24, 24, 128)          0         ['batch_normalization_11[0][0]\n",
            "                                                                    ']                            \n",
            "                                                                                                  \n",
            " conv2d_20 (Conv2D)          (None, 24, 24, 64)           73792     ['activation_8[0][0]']        \n",
            "                                                                                                  \n",
            " batch_normalization_12 (Ba  (None, 24, 24, 64)           256       ['conv2d_20[0][0]']           \n",
            " tchNormalization)                                                                                \n",
            "                                                                                                  \n",
            " activation_9 (Activation)   (None, 24, 24, 64)           0         ['batch_normalization_12[0][0]\n",
            "                                                                    ']                            \n",
            "                                                                                                  \n",
            " conv2d_22 (Conv2D)          (None, 24, 24, 64)           8256      ['concatenate_1[0][0]']       \n",
            "                                                                                                  \n",
            " conv2d_21 (Conv2D)          (None, 24, 24, 64)           36928     ['activation_9[0][0]']        \n",
            "                                                                                                  \n",
            " add_5 (Add)                 (None, 24, 24, 64)           0         ['conv2d_22[0][0]',           \n",
            "                                                                     'conv2d_21[0][0]']           \n",
            "                                                                                                  \n",
            " up_sampling2d_2 (UpSamplin  (None, 48, 48, 64)           0         ['add_5[0][0]']               \n",
            " g2D)                                                                                             \n",
            "                                                                                                  \n",
            " concatenate_2 (Concatenate  (None, 48, 48, 128)          0         ['up_sampling2d_2[0][0]',     \n",
            " )                                                                   'add[0][0]']                 \n",
            "                                                                                                  \n",
            " batch_normalization_13 (Ba  (None, 48, 48, 128)          512       ['concatenate_2[0][0]']       \n",
            " tchNormalization)                                                                                \n",
            "                                                                                                  \n",
            " activation_10 (Activation)  (None, 48, 48, 128)          0         ['batch_normalization_13[0][0]\n",
            "                                                                    ']                            \n",
            "                                                                                                  \n",
            " conv2d_23 (Conv2D)          (None, 48, 48, 64)           73792     ['activation_10[0][0]']       \n",
            "                                                                                                  \n",
            " batch_normalization_14 (Ba  (None, 48, 48, 64)           256       ['conv2d_23[0][0]']           \n",
            " tchNormalization)                                                                                \n",
            "                                                                                                  \n",
            " activation_11 (Activation)  (None, 48, 48, 64)           0         ['batch_normalization_14[0][0]\n",
            "                                                                    ']                            \n",
            "                                                                                                  \n",
            " conv2d_25 (Conv2D)          (None, 48, 48, 64)           8256      ['concatenate_2[0][0]']       \n",
            "                                                                                                  \n",
            " conv2d_24 (Conv2D)          (None, 48, 48, 64)           36928     ['activation_11[0][0]']       \n",
            "                                                                                                  \n",
            " add_6 (Add)                 (None, 48, 48, 64)           0         ['conv2d_25[0][0]',           \n",
            "                                                                     'conv2d_24[0][0]']           \n",
            "                                                                                                  \n",
            " batch_normalization_15 (Ba  (None, 48, 48, 64)           256       ['add_6[0][0]']               \n",
            " tchNormalization)                                                                                \n",
            "                                                                                                  \n",
            " conv2d_26 (Conv2D)          (None, 48, 48, 64)           36928     ['batch_normalization_15[0][0]\n",
            "                                                                    ']                            \n",
            "                                                                                                  \n",
            " conv2d_27 (Conv2D)          (None, 48, 48, 1)            65        ['conv2d_26[0][0]']           \n",
            "                                                                                                  \n",
            "==================================================================================================\n",
            "Total params: 1044225 (3.98 MB)\n",
            "Trainable params: 1041537 (3.97 MB)\n",
            "Non-trainable params: 2688 (10.50 KB)\n",
            "__________________________________________________________________________________________________\n"
          ]
        }
      ],
      "source": [
        "resunet_model = resUnet(input_shape=img_shape, num_filters=64, num_resnetblocks=4, kernel_size=3)\n",
        "resunet_model.summary()"
      ]
    },
    {
      "cell_type": "code",
      "execution_count": null,
      "metadata": {
        "colab": {
          "base_uri": "https://localhost:8080/"
        },
        "id": "LtzvV7pSpcOO",
        "outputId": "87e62528-3fd6-4ac6-8765-6dc791744970"
      },
      "outputs": [],
      "source": [
        "resunet_model.compile(optimizer=Adam(), loss='mean_squared_error', metrics=['mse'])\n",
        "\n",
        "batch_size = 128\n",
        "epochs = 25\n",
        "history = resunet_model.fit(train_x, train_y, batch_size=batch_size, epochs=epochs, verbose=1, validation_data=(test_x, test_y))"
      ]
    },
    {
      "cell_type": "code",
      "execution_count": null,
      "metadata": {
        "colab": {
          "base_uri": "https://localhost:8080/",
          "height": 866
        },
        "id": "jm9QmL-KgDtF",
        "outputId": "0c8eba31-289f-4175-d91a-acb8361808da"
      },
      "outputs": [],
      "source": [
        "predictions = resunet_model.predict(test_x)\n",
        "idx = 0\n",
        "show_image(test_x[idx])\n",
        "show_image(predictions[idx])"
      ]
    },
    {
      "cell_type": "markdown",
      "metadata": {
        "id": "cXteIN4RN_m8"
      },
      "source": [
        "Saving model to file"
      ]
    },
    {
      "cell_type": "code",
      "execution_count": null,
      "metadata": {
        "id": "jnSLFlNFOBeG"
      },
      "outputs": [],
      "source": [
        "resunet_model.save('resunet_100snr2.keras')"
      ]
    },
    {
      "cell_type": "markdown",
      "metadata": {
        "id": "MZf-h-Mb6kma"
      },
      "source": [
        "**Deconvolution**"
      ]
    },
    {
      "cell_type": "markdown",
      "metadata": {},
      "source": [
        "Importing images and spliting training and testing datasets"
      ]
    },
    {
      "cell_type": "code",
      "execution_count": 30,
      "metadata": {},
      "outputs": [
        {
          "data": {
            "image/png": "[encoded data removed]",
            "text/plain": [
              "<Figure size 640x480 with 2 Axes>"
            ]
          },
          "metadata": {},
          "output_type": "display_data"
        },
        {
          "data": {
            "image/png": "[encoded data removed]",
            "text/plain": [
              "<Figure size 640x480 with 2 Axes>"
            ]
          },
          "metadata": {},
          "output_type": "display_data"
        },
        {
          "data": {
            "image/png": "[encoded data removed]",
            "text/plain": [
              "<Figure size 640x480 with 2 Axes>"
            ]
          },
          "metadata": {},
          "output_type": "display_data"
        },
        {
          "data": {
            "image/png": "[encoded data removed]",
            "text/plain": [
              "<Figure size 640x480 with 2 Axes>"
            ]
          },
          "metadata": {},
          "output_type": "display_data"
        }
      ],
      "source": [
        "# Importing images\n",
        "image_file_path = 'outputs/output_deconv_snr100_5k.fits'\n",
        "img_head, img_data = read_header_and_data(image_file_path, 0) # img_data = [mod_img1, original_img1, mod_img2, original_img2, ...]\n",
        "\n",
        "image_psf_file_path = 'outputs/output_deconv_snr100_5k_psf.fits'\n",
        "psf_head, psf_data = read_header_and_data(image_psf_file_path, 0)\n",
        "\n",
        "# Normalizing images\n",
        "img_data = normalize_list(img_data)\n",
        "psf_data = normalize_list(psf_data)\n",
        "\n",
        "# Reshaping images\n",
        "img_data = np.array([np.reshape(img, (img_size, img_size, 1)) for img in img_data])\n",
        "psf_data = np.array([np.reshape(psf, (img_size, img_size, 1)) for psf in psf_data])\n",
        "img_shape = img_data[0].shape\n",
        "\n",
        "# Spliting training and testing\n",
        "train_split = 0.7\n",
        "img_size = img_data[0].shape[0]\n",
        "num_total = len(img_data)\n",
        "train_idx = int(num_total * train_split)\n",
        "\n",
        "img_train = img_data[0:train_idx]\n",
        "psf_train = psf_data[0:train_idx]\n",
        "\n",
        "img_test = img_data[train_idx:num_total] # It is only necessary to get the images test, not the psf\n",
        "\n",
        "# Image train\n",
        "img_train_x = img_train[[i for i in range(0, len(img_train), 2)]]\n",
        "img_train_y = img_train[[i for i in range(1, len(img_train), 2)]]\n",
        "\n",
        "# PSF of the train images\n",
        "psf_train_x = psf_train[[i for i in range(0, len(psf_train), 2)]]\n",
        "\n",
        "img_test_x = img_test[[i for i in range(0, len(img_test), 2)]]\n",
        "img_test_y = img_test[[i for i in range(1, len(img_test), 2)]]\n",
        "\n",
        "idx = 0\n",
        "show_image(img_train_x[idx])\n",
        "show_image(psf_train_x[idx])\n",
        "show_image(img_test_x[idx])\n",
        "show_image(img_train_y[idx])"
      ]
    },
    {
      "cell_type": "markdown",
      "metadata": {
        "id": "ix1wWjWi66SY"
      },
      "source": [
        "Unrolled ADMM Network"
      ]
    },
    {
      "cell_type": "code",
      "execution_count": 41,
      "metadata": {
        "id": "jUR5RuTp65mW"
      },
      "outputs": [],
      "source": [
        "def compute_alpha(N, y, beta=0.33):\n",
        "    return np.sum(y) / (N*beta)\n",
        "\n",
        "def unrolled_admm_model(input_shape, n):\n",
        "    # Inputs\n",
        "    y = Input(shape=input_shape)\n",
        "    h = Input(shape=input_shape)\n",
        "    \n",
        "    # Initializing parameters\n",
        "    N = input_shape[0]\n",
        "    alpha = compute_alpha(N, y) # 500, 200\n",
        "    alpha_inv = 1 / alpha\n",
        "\n",
        "    # Initialize x with Wiener Filter\n",
        "    Y = np.fft.fft(y)\n",
        "    H = np.fft.fft(h)\n",
        "    Ht = H.T\n",
        "    Ht_conj = Ht.conj()\n",
        "    x = [alpha_inv * np.fft.ifft((Ht_conj * Y) / (alpha_inv + abs(H)**2))]\n",
        "\n",
        "    # Initialize other parameters\n",
        "    z = [x[0]]\n",
        "    v = [y]\n",
        "    u1 = [0]\n",
        "    u2 = [0]\n",
        "\n",
        "    # Hyperparameters (can be initialized by nn)\n",
        "    rho1 = 10e3 # rho1 in (10−5, 10−2)\n",
        "    rho2 = 10e3 # rho2 in ?\n",
        "    gamma = 1.5 # gamma in (1, 2)\n",
        "\n",
        "    # ADMM iterations\n",
        "    for k in range(1, n):\n",
        "        x[1] = np.fft.ifft()\n",
        "\n",
        "\n",
        "alpha = 500\n",
        "alpha_inv = 1 / alpha\n",
        "y = img_train_x[0]\n",
        "h = psf_train_x[0]\n",
        "Y = np.fft.fft(y)\n",
        "H = np.fft.fft(h)\n",
        "Ht = H.T\n",
        "Ht_conj = Ht.conj()\n",
        "x = [alpha_inv * np.fft.ifft((Ht_conj * Y) / (alpha_inv + abs(H)**2))]\n"
      ]
    }
  ],
  "metadata": {
    "accelerator": "GPU",
    "colab": {
      "gpuType": "T4",
      "provenance": []
    },
    "kernelspec": {
      "display_name": "Python 3",
      "name": "python3"
    },
    "language_info": {
      "codemirror_mode": {
        "name": "ipython",
        "version": 3
      },
      "file_extension": ".py",
      "mimetype": "text/x-python",
      "name": "python",
      "nbconvert_exporter": "python",
      "pygments_lexer": "ipython3",
      "version": "3.10.12"
    }
  },
  "nbformat": 4,
  "nbformat_minor": 0
}
